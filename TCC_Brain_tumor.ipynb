{
  "nbformat": 4,
  "nbformat_minor": 0,
  "metadata": {
    "colab": {
      "name": "TCC-Brain-tumor.ipynb",
      "provenance": [],
      "authorship_tag": "ABX9TyMzPoMZRkwRTnOQ9RLXv8sS",
      "include_colab_link": true
    },
    "kernelspec": {
      "display_name": "Python 3",
      "name": "python3"
    },
    "language_info": {
      "name": "python"
    }
  },
  "cells": [
    {
      "cell_type": "markdown",
      "metadata": {
        "id": "view-in-github",
        "colab_type": "text"
      },
      "source": [
        "<a href=\"https://colab.research.google.com/github/brunorfo/POC-BIMaster-Brain-Tumor/blob/main/TCC_Brain_tumor.ipynb\" target=\"_parent\"><img src=\"https://colab.research.google.com/assets/colab-badge.svg\" alt=\"Open In Colab\"/></a>"
      ]
    },
    {
      "cell_type": "markdown",
      "metadata": {
        "id": "IuGtghiHSMSj"
      },
      "source": [
        "\n",
        "[link kaggle](https://www.kaggle.com/c/rsna-miccai-brain-tumor-radiogenomic-classification)\n",
        "\n",
        "\n",
        "\n"
      ]
    },
    {
      "cell_type": "code",
      "metadata": {
        "colab": {
          "base_uri": "https://localhost:8080/"
        },
        "id": "T_va9CyyFfAj",
        "outputId": "59288600-385e-4d06-be68-2774ade2d2bb"
      },
      "source": [
        "from google.colab import drive\n",
        "drive.mount('/content/drive/')\n",
        "\n",
        "import os\n",
        "workdir_path = '/content/drive/My Drive/TCC'  # Local da pasta onde estão os arquivos de entrada (treino e teste)\n",
        "os.chdir(workdir_path)\n",
        "!ls"
      ],
      "execution_count": null,
      "outputs": [
        {
          "output_type": "stream",
          "text": [
            "Drive already mounted at /content/drive/; to attempt to forcibly remount, call drive.mount(\"/content/drive/\", force_remount=True).\n",
            "ImageExample.png  test\ttest.zip  train  train_labels.csv  train.zip\n"
          ],
          "name": "stdout"
        }
      ]
    },
    {
      "cell_type": "code",
      "metadata": {
        "id": "iG0Eox6TKPxD"
      },
      "source": [
        "# Feito a extração das imagens. Necessário apenas a primeira vez que rodar o código.\n",
        "#!unzip test.zip -d test  # extrai arquivos de teste da pasta compactada.\n",
        "#!unzip train.zip -d train  # extrai arquivos de treino da pasta compactada."
      ],
      "execution_count": null,
      "outputs": []
    },
    {
      "cell_type": "code",
      "metadata": {
        "id": "BsPTtc35FyDC"
      },
      "source": [
        "import torch\n",
        "import torchvision\n",
        "import pandas as pd\n",
        "import tensorflow as tf\n",
        "from PIL import Image\n",
        "import numpy as np"
      ],
      "execution_count": null,
      "outputs": []
    },
    {
      "cell_type": "code",
      "metadata": {
        "id": "v74dSztGYN_1"
      },
      "source": [
        "# Declaração de constantes\n",
        "TRAIN_FOLDER = 'train'\n",
        "TEST_FOLDER = 'test'"
      ],
      "execution_count": null,
      "outputs": []
    },
    {
      "cell_type": "code",
      "metadata": {
        "id": "saKX4lod9wmF"
      },
      "source": [
        "print(torch.cuda.is_available())\n",
        "print(torch.cuda.current_device())\n",
        "print(torch.cuda.get_device_name(0))"
      ],
      "execution_count": null,
      "outputs": []
    },
    {
      "cell_type": "markdown",
      "metadata": {
        "id": "o_ccqtuaVkJx"
      },
      "source": [
        "###TODO-Criar bloco com funções acessórias\n"
      ]
    },
    {
      "cell_type": "code",
      "metadata": {
        "id": "pMETtIBd_Sr4"
      },
      "source": [
        "# Função para ler todas as imagens de cada paciente\n",
        "def image_loader(folder:str):\n",
        "  for dirpath, dirnames, filenames in os.walk(folder):\n",
        "    for i in range(0, len(dirnames)):\n",
        "      for patient, empty, photos in os.walk(os.path.join(dirpath, dirnames[i])):\n",
        "        t = 0\n",
        "        for files in photos:\n",
        "          t += 1\n",
        "          print('faltam', len(dirnames)-i, 'pacientes' )\n",
        "          print('faltam ', len(photos)-t, 'fotos na pasta', patient )\n",
        "          file_path = os.path.join(patient, files)\n",
        "          try:\n",
        "            yield file_path\n",
        "            im.close()\n",
        "          except ValueError as err:\n",
        "            print(err)\n",
        "          except TypeError as err:\n",
        "            print (err)\n",
        "          except AttributeError as err:\n",
        "            print(err)"
      ],
      "execution_count": null,
      "outputs": []
    },
    {
      "cell_type": "markdown",
      "metadata": {
        "id": "TFy7CZU0DaR0"
      },
      "source": [
        "###TODO-Análise exploratória do dataset"
      ]
    },
    {
      "cell_type": "code",
      "metadata": {
        "id": "X9KACs2lFo0j"
      },
      "source": [
        "data = pd.read_csv(\"train_labels.csv\", dtype={'BraTS21ID':str, 'MGMT_value':int})"
      ],
      "execution_count": null,
      "outputs": []
    },
    {
      "cell_type": "code",
      "metadata": {
        "colab": {
          "base_uri": "https://localhost:8080/"
        },
        "id": "DSCRGvXFHop8",
        "outputId": "c054e9f0-aa25-4346-9e2e-75d932e3f5e5"
      },
      "source": [
        "data.MGMT_value.unique()"
      ],
      "execution_count": null,
      "outputs": [
        {
          "output_type": "execute_result",
          "data": {
            "text/plain": [
              "array([1, 0])"
            ]
          },
          "metadata": {
            "tags": []
          },
          "execution_count": 6
        }
      ]
    },
    {
      "cell_type": "code",
      "metadata": {
        "colab": {
          "base_uri": "https://localhost:8080/",
          "height": 300
        },
        "id": "LxzTrDecCOzW",
        "outputId": "c399f956-2235-4103-eb98-4be975fc8f78"
      },
      "source": [
        "data.describe()"
      ],
      "execution_count": null,
      "outputs": [
        {
          "output_type": "execute_result",
          "data": {
            "text/html": [
              "<div>\n",
              "<style scoped>\n",
              "    .dataframe tbody tr th:only-of-type {\n",
              "        vertical-align: middle;\n",
              "    }\n",
              "\n",
              "    .dataframe tbody tr th {\n",
              "        vertical-align: top;\n",
              "    }\n",
              "\n",
              "    .dataframe thead th {\n",
              "        text-align: right;\n",
              "    }\n",
              "</style>\n",
              "<table border=\"1\" class=\"dataframe\">\n",
              "  <thead>\n",
              "    <tr style=\"text-align: right;\">\n",
              "      <th></th>\n",
              "      <th>MGMT_value</th>\n",
              "    </tr>\n",
              "  </thead>\n",
              "  <tbody>\n",
              "    <tr>\n",
              "      <th>count</th>\n",
              "      <td>585.000000</td>\n",
              "    </tr>\n",
              "    <tr>\n",
              "      <th>mean</th>\n",
              "      <td>0.524786</td>\n",
              "    </tr>\n",
              "    <tr>\n",
              "      <th>std</th>\n",
              "      <td>0.499813</td>\n",
              "    </tr>\n",
              "    <tr>\n",
              "      <th>min</th>\n",
              "      <td>0.000000</td>\n",
              "    </tr>\n",
              "    <tr>\n",
              "      <th>25%</th>\n",
              "      <td>0.000000</td>\n",
              "    </tr>\n",
              "    <tr>\n",
              "      <th>50%</th>\n",
              "      <td>1.000000</td>\n",
              "    </tr>\n",
              "    <tr>\n",
              "      <th>75%</th>\n",
              "      <td>1.000000</td>\n",
              "    </tr>\n",
              "    <tr>\n",
              "      <th>max</th>\n",
              "      <td>1.000000</td>\n",
              "    </tr>\n",
              "  </tbody>\n",
              "</table>\n",
              "</div>"
            ],
            "text/plain": [
              "       MGMT_value\n",
              "count  585.000000\n",
              "mean     0.524786\n",
              "std      0.499813\n",
              "min      0.000000\n",
              "25%      0.000000\n",
              "50%      1.000000\n",
              "75%      1.000000\n",
              "max      1.000000"
            ]
          },
          "metadata": {
            "tags": []
          },
          "execution_count": 7
        }
      ]
    },
    {
      "cell_type": "code",
      "metadata": {
        "colab": {
          "base_uri": "https://localhost:8080/",
          "height": 206
        },
        "id": "9x_15mGNAXVJ",
        "outputId": "fa13fd63-06e9-47da-8078-28393902bb3a"
      },
      "source": [
        "data.head()"
      ],
      "execution_count": null,
      "outputs": [
        {
          "output_type": "execute_result",
          "data": {
            "text/html": [
              "<div>\n",
              "<style scoped>\n",
              "    .dataframe tbody tr th:only-of-type {\n",
              "        vertical-align: middle;\n",
              "    }\n",
              "\n",
              "    .dataframe tbody tr th {\n",
              "        vertical-align: top;\n",
              "    }\n",
              "\n",
              "    .dataframe thead th {\n",
              "        text-align: right;\n",
              "    }\n",
              "</style>\n",
              "<table border=\"1\" class=\"dataframe\">\n",
              "  <thead>\n",
              "    <tr style=\"text-align: right;\">\n",
              "      <th></th>\n",
              "      <th>BraTS21ID</th>\n",
              "      <th>MGMT_value</th>\n",
              "    </tr>\n",
              "  </thead>\n",
              "  <tbody>\n",
              "    <tr>\n",
              "      <th>0</th>\n",
              "      <td>00000</td>\n",
              "      <td>1</td>\n",
              "    </tr>\n",
              "    <tr>\n",
              "      <th>1</th>\n",
              "      <td>00002</td>\n",
              "      <td>1</td>\n",
              "    </tr>\n",
              "    <tr>\n",
              "      <th>2</th>\n",
              "      <td>00003</td>\n",
              "      <td>0</td>\n",
              "    </tr>\n",
              "    <tr>\n",
              "      <th>3</th>\n",
              "      <td>00005</td>\n",
              "      <td>1</td>\n",
              "    </tr>\n",
              "    <tr>\n",
              "      <th>4</th>\n",
              "      <td>00006</td>\n",
              "      <td>1</td>\n",
              "    </tr>\n",
              "  </tbody>\n",
              "</table>\n",
              "</div>"
            ],
            "text/plain": [
              "  BraTS21ID  MGMT_value\n",
              "0     00000           1\n",
              "1     00002           1\n",
              "2     00003           0\n",
              "3     00005           1\n",
              "4     00006           1"
            ]
          },
          "metadata": {
            "tags": []
          },
          "execution_count": 8
        }
      ]
    },
    {
      "cell_type": "code",
      "metadata": {
        "colab": {
          "base_uri": "https://localhost:8080/"
        },
        "id": "6zaHfKxxYxCe",
        "outputId": "6e61a108-2932-4613-90ff-2737e0c0233a"
      },
      "source": [
        "with os.scandir('train/00006/FLAIR') as it:\n",
        "  qt = 0\n",
        "  for entry in it:\n",
        "    qt += 1\n",
        "  print(qt)"
      ],
      "execution_count": null,
      "outputs": [
        {
          "output_type": "stream",
          "text": [
            "68\n"
          ],
          "name": "stdout"
        }
      ]
    },
    {
      "cell_type": "code",
      "metadata": {
        "colab": {
          "base_uri": "https://localhost:8080/"
        },
        "id": "IioRndDVcrUO",
        "outputId": "462957c8-c7d1-45e1-dfb8-4e6dc19e7a73"
      },
      "source": [
        "im = Image.open('ImageExample.png')\n",
        "a = np.asarray(im)\n",
        "print(np.shape(a))\n",
        "im_tensor = torchvision.transforms.ToTensor()(a)\n",
        "print(np.shape(im_tensor))"
      ],
      "execution_count": null,
      "outputs": [
        {
          "output_type": "stream",
          "text": [
            "(512, 512)\n",
            "torch.Size([1, 512, 512])\n"
          ],
          "name": "stdout"
        },
        {
          "output_type": "stream",
          "text": [
            "/usr/local/lib/python3.7/dist-packages/torchvision/transforms/functional.py:114: UserWarning: The given NumPy array is not writeable, and PyTorch does not support non-writeable tensors. This means you can write to the underlying (supposedly non-writeable) NumPy array using the tensor. You may want to copy the array to protect its data or make it writeable before converting it to a tensor. This type of warning will be suppressed for the rest of this program. (Triggered internally at  /pytorch/torch/csrc/utils/tensor_numpy.cpp:180.)\n",
            "  img = torch.from_numpy(pic.transpose((2, 0, 1))).contiguous()\n"
          ],
          "name": "stderr"
        }
      ]
    },
    {
      "cell_type": "code",
      "metadata": {
        "id": "TIkzrUp7eUGb"
      },
      "source": [
        ""
      ],
      "execution_count": null,
      "outputs": []
    },
    {
      "cell_type": "code",
      "metadata": {
        "id": "UZ23E-KqL-1i"
      },
      "source": [
        "df_images = pd.DataFrame(image_loader(TRAIN_FOLDER), index=None, columns={'patient_id', 'file_name', 'image_size', 'image_mode'})\n",
        "df_images.to_csv('image_dataframe')\n"
      ],
      "execution_count": null,
      "outputs": []
    },
    {
      "cell_type": "code",
      "metadata": {
        "id": "Yv-Np8izCaz7"
      },
      "source": [
        "for dir, file_name, im_size, im_mode in image_loader(TRAIN_FOLDER):\n",
        "  print(dir,file_name, im_size, im_mode)"
      ],
      "execution_count": null,
      "outputs": []
    },
    {
      "cell_type": "markdown",
      "metadata": {
        "id": "29i9In2X_hmH"
      },
      "source": [
        "###TODO-Ler cada ID de paciente, construir o caminho e ler cada imagem referente ao paciente para servir de input da minha rede neural.\n",
        "\n"
      ]
    },
    {
      "cell_type": "code",
      "metadata": {
        "id": "Jov78ptIM4Km"
      },
      "source": [
        "i = 0\n",
        "for row in data.itertuples(index=False):\n",
        "  i += 1\n",
        "  print('patient ' + row.BraTS21ID)\n",
        "  print(i)\n",
        "  if i == 10:\n",
        "    break"
      ],
      "execution_count": null,
      "outputs": []
    }
  ]
}